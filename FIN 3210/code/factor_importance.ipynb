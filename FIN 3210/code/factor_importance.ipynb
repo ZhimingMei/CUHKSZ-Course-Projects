{
 "cells": [
  {
   "cell_type": "code",
   "execution_count": 1,
   "metadata": {},
   "outputs": [],
   "source": [
    "import pandas as pd\n",
    "\n",
    "df = pd.read_csv('/Users/ryan/Documents/GitHub/CUHKSZ-Course-Projects/FIN 3210/data/dataforreg.csv')"
   ]
  },
  {
   "cell_type": "code",
   "execution_count": 2,
   "metadata": {},
   "outputs": [],
   "source": [
    "from sklearn.linear_model import LinearRegression\n",
    "from sklearn.metrics import r2_score\n",
    "\n",
    "# Convert 'TRADE_DT' to datetime and sort the dataframe\n",
    "df['TRADE_DT'] = pd.to_datetime(df['TRADE_DT'])\n",
    "df = df.sort_values(by=['S_INFO_WINDCODE', 'TRADE_DT'])\n",
    "\n",
    "# Calculate the return\n",
    "df['ret'] = df.groupby('S_INFO_WINDCODE')['S_DQ_CLOSE'].pct_change()\n",
    "\n",
    "# List of factors\n",
    "factors = ['S_FA_ROE', 'Skewness20', 'WVAD', 'S_VAL_PS', 'NET_ASSETS_TODAY', 'TOT_CUR_LIAB']\n",
    "\n"
   ]
  },
  {
   "cell_type": "code",
   "execution_count": 3,
   "metadata": {},
   "outputs": [
    {
     "data": {
      "text/plain": [
       "{'S_FA_ROE': 7.479696832790594e-06,\n",
       " 'Skewness20': 0.005184968830585723,\n",
       " 'WVAD': 0.056041451669881504,\n",
       " 'S_VAL_PS': 0.0017356446204735976,\n",
       " 'NET_ASSETS_TODAY': 2.1173375716943e-05,\n",
       " 'TOT_CUR_LIAB': 8.103410375048803e-06}"
      ]
     },
     "execution_count": 3,
     "metadata": {},
     "output_type": "execute_result"
    }
   ],
   "source": [
    "# Dropping rows with NaN values in the specified columns\n",
    "df_clean = df.dropna(subset=factors + ['ret'])\n",
    "\n",
    "# Repeating the linear regression process with the cleaned data\n",
    "r2_scores_clean = {}\n",
    "\n",
    "for factor in factors:\n",
    "    # Preparing the data for regression\n",
    "    X = df_clean[[factor]]\n",
    "    y = df_clean['ret']\n",
    "\n",
    "    # Linear regression\n",
    "    model = LinearRegression()\n",
    "    model.fit(X, y)\n",
    "\n",
    "    # Predict and calculate R^2\n",
    "    predictions = model.predict(X)\n",
    "    r2 = r2_score(y, predictions)\n",
    "    r2_scores_clean[factor] = r2\n",
    "\n",
    "r2_scores_clean\n",
    "\n"
   ]
  }
 ],
 "metadata": {
  "kernelspec": {
   "display_name": "venv",
   "language": "python",
   "name": "python3"
  },
  "language_info": {
   "codemirror_mode": {
    "name": "ipython",
    "version": 3
   },
   "file_extension": ".py",
   "mimetype": "text/x-python",
   "name": "python",
   "nbconvert_exporter": "python",
   "pygments_lexer": "ipython3",
   "version": "3.9.2"
  }
 },
 "nbformat": 4,
 "nbformat_minor": 2
}
