{
 "cells": [
  {
   "cell_type": "code",
   "execution_count": 1,
   "metadata": {},
   "outputs": [],
   "source": [
    "import pandas as pd\n",
    "import pymysql"
   ]
  },
  {
   "cell_type": "code",
   "execution_count": 2,
   "metadata": {},
   "outputs": [
    {
     "name": "stdout",
     "output_type": "stream",
     "text": [
      "auth success \n"
     ]
    }
   ],
   "source": [
    "# 获得沪深300成分股列表\n",
    "import jqdatasdk as jq\n",
    "jq.auth('USERNAME', 'PASSWORD')\n",
    "\n",
    "df_stocks = pd.DataFrame(jq.get_index_stocks('000300.XSHG'))"
   ]
  },
  {
   "cell_type": "code",
   "execution_count": 3,
   "metadata": {},
   "outputs": [],
   "source": [
    "# 更改后缀为万得代码格式\n",
    "df_stocks.columns = ['stockID']\n",
    "df_stocks['stockCode'] = df_stocks['stockID'].str.split('.').apply(lambda x:x[0])\n",
    "df_stocks['stockSuffix'] = df_stocks['stockID'].str.split('.').apply(lambda x:x[1])\n",
    "\n",
    "df_stocks.replace('XSHE', 'SZ', inplace=True)\n",
    "df_stocks.replace('XSHG', 'SH', inplace=True)\n",
    "\n",
    "df_stocks['stockID'] = df_stocks['stockCode']+'.'+df_stocks['stockSuffix']\n",
    "\n",
    "stock_list = df_stocks['stockID'].unique().tolist()"
   ]
  },
  {
   "cell_type": "code",
   "execution_count": 6,
   "metadata": {},
   "outputs": [],
   "source": [
    "# 读取数据\n",
    "stocks = tuple(stock_list)\n",
    "conw = pymysql.connect(host='', user=\"\", password=\"\", database=\"wind\")\n",
    "cursorw = conw.cursor()\n",
    "cursorw.execute(\n",
    "    f'SELECT S_INFO_WINDCODE, TRADE_DT, S_VAL_PE, S_VAL_PB_NEW, S_VAL_PS, S_DQ_TURN, S_DQ_MV, NET_ASSETS_TODAY \\\n",
    "        FROM ASHAREEODDERIVATIVEINDICATOR \\\n",
    "            where S_INFO_WINDCODE in {stocks}\\\n",
    "                and TRADE_DT between 20170101 and 20220701')\n",
    "df = pd.DataFrame(cursorw.fetchall())\n",
    "df.columns = ['S_INFO_WINDCODE', 'TRADE_DT', 'S_VAL_PE', 'S_VAL_PB_NEW', 'S_VAL_PS', 'S_DQ_TURN', 'S_DQ_MV', 'NET_ASSETS_TODAY']\n",
    "\n",
    "# 保存数据为gzip格式\n",
    "df.to_csv('value_factor.gz', compression='gzip', index=False)\n",
    "\n",
    "# 读取数据方法\n",
    "# df = pd.read_csv('value_factor.gz')"
   ]
  },
  {
   "cell_type": "code",
   "execution_count": 7,
   "metadata": {},
   "outputs": [
    {
     "data": {
      "text/html": [
       "<div>\n",
       "<style scoped>\n",
       "    .dataframe tbody tr th:only-of-type {\n",
       "        vertical-align: middle;\n",
       "    }\n",
       "\n",
       "    .dataframe tbody tr th {\n",
       "        vertical-align: top;\n",
       "    }\n",
       "\n",
       "    .dataframe thead th {\n",
       "        text-align: right;\n",
       "    }\n",
       "</style>\n",
       "<table border=\"1\" class=\"dataframe\">\n",
       "  <thead>\n",
       "    <tr style=\"text-align: right;\">\n",
       "      <th></th>\n",
       "      <th>S_INFO_WINDCODE</th>\n",
       "      <th>TRADE_DT</th>\n",
       "      <th>S_VAL_PE</th>\n",
       "      <th>S_VAL_PB_NEW</th>\n",
       "      <th>S_VAL_PS</th>\n",
       "      <th>S_DQ_TURN</th>\n",
       "      <th>S_DQ_MV</th>\n",
       "      <th>NET_ASSETS_TODAY</th>\n",
       "    </tr>\n",
       "  </thead>\n",
       "  <tbody>\n",
       "    <tr>\n",
       "      <th>0</th>\n",
       "      <td>000725.SZ</td>\n",
       "      <td>20170101</td>\n",
       "      <td>61.4432</td>\n",
       "      <td>1.3033</td>\n",
       "      <td>2.0677</td>\n",
       "      <td>NaN</td>\n",
       "      <td>6.872158e+06</td>\n",
       "      <td>7.714270e+10</td>\n",
       "    </tr>\n",
       "    <tr>\n",
       "      <th>1</th>\n",
       "      <td>600346.SH</td>\n",
       "      <td>20170101</td>\n",
       "      <td>NaN</td>\n",
       "      <td>4.4023</td>\n",
       "      <td>27.9980</td>\n",
       "      <td>NaN</td>\n",
       "      <td>5.562664e+05</td>\n",
       "      <td>5.346761e+09</td>\n",
       "    </tr>\n",
       "    <tr>\n",
       "      <th>2</th>\n",
       "      <td>600010.SH</td>\n",
       "      <td>20170101</td>\n",
       "      <td>NaN</td>\n",
       "      <td>1.9186</td>\n",
       "      <td>4.0373</td>\n",
       "      <td>NaN</td>\n",
       "      <td>4.392025e+06</td>\n",
       "      <td>4.734914e+10</td>\n",
       "    </tr>\n",
       "    <tr>\n",
       "      <th>3</th>\n",
       "      <td>600585.SH</td>\n",
       "      <td>20170101</td>\n",
       "      <td>11.9574</td>\n",
       "      <td>1.2163</td>\n",
       "      <td>1.7631</td>\n",
       "      <td>NaN</td>\n",
       "      <td>6.783496e+06</td>\n",
       "      <td>7.389383e+10</td>\n",
       "    </tr>\n",
       "    <tr>\n",
       "      <th>4</th>\n",
       "      <td>600383.SH</td>\n",
       "      <td>20170101</td>\n",
       "      <td>18.2782</td>\n",
       "      <td>1.8064</td>\n",
       "      <td>1.7871</td>\n",
       "      <td>NaN</td>\n",
       "      <td>5.833101e+06</td>\n",
       "      <td>3.238384e+10</td>\n",
       "    </tr>\n",
       "  </tbody>\n",
       "</table>\n",
       "</div>"
      ],
      "text/plain": [
       "  S_INFO_WINDCODE  TRADE_DT  S_VAL_PE  S_VAL_PB_NEW  S_VAL_PS  S_DQ_TURN  \\\n",
       "0       000725.SZ  20170101   61.4432        1.3033    2.0677        NaN   \n",
       "1       600346.SH  20170101       NaN        4.4023   27.9980        NaN   \n",
       "2       600010.SH  20170101       NaN        1.9186    4.0373        NaN   \n",
       "3       600585.SH  20170101   11.9574        1.2163    1.7631        NaN   \n",
       "4       600383.SH  20170101   18.2782        1.8064    1.7871        NaN   \n",
       "\n",
       "        S_DQ_MV  NET_ASSETS_TODAY  \n",
       "0  6.872158e+06      7.714270e+10  \n",
       "1  5.562664e+05      5.346761e+09  \n",
       "2  4.392025e+06      4.734914e+10  \n",
       "3  6.783496e+06      7.389383e+10  \n",
       "4  5.833101e+06      3.238384e+10  "
      ]
     },
     "execution_count": 7,
     "metadata": {},
     "output_type": "execute_result"
    }
   ],
   "source": [
    "df = pd.read_csv('value_factor.gz')\n",
    "df.head()"
   ]
  }
 ],
 "metadata": {
  "interpreter": {
   "hash": "aee8b7b246df8f9039afb4144a1f6fd8d2ca17a180786b69acc140d282b71a49"
  },
  "kernelspec": {
   "display_name": "Python 3.9.2 64-bit",
   "language": "python",
   "name": "python3"
  },
  "language_info": {
   "codemirror_mode": {
    "name": "ipython",
    "version": 3
   },
   "file_extension": ".py",
   "mimetype": "text/x-python",
   "name": "python",
   "nbconvert_exporter": "python",
   "pygments_lexer": "ipython3",
   "version": "3.9.2"
  },
  "orig_nbformat": 4
 },
 "nbformat": 4,
 "nbformat_minor": 2
}
